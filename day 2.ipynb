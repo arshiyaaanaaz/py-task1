{
 "cells": [
  {
   "cell_type": "markdown",
   "id": "61b56549-2cc7-4e35-9eca-05efe234002e",
   "metadata": {},
   "source": [
    "# 1.how to run cell directly\n",
    "* edit cell in code\n",
    "* click shift + enter\n",
    "* this will excute our code and provide output\n",
    "  \n",
    "\n"
   ]
  },
  {
   "cell_type": "code",
   "execution_count": 2,
   "id": "c2b0db76-43eb-4fa4-8fa2-57be721bd01b",
   "metadata": {},
   "outputs": [
    {
     "data": {
      "text/plain": [
       "2"
      ]
     },
     "execution_count": 2,
     "metadata": {},
     "output_type": "execute_result"
    }
   ],
   "source": [
    "1+1"
   ]
  },
  {
   "cell_type": "markdown",
   "id": "ae7d42be-f8e7-4cee-a112-cc4a45b3c20f",
   "metadata": {},
   "source": [
    "# 2. how to run all cells \n",
    "* ctrl+alt+a\n",
    "* this will excute all cells"
   ]
  },
  {
   "cell_type": "markdown",
   "id": "3e4bff53-0254-4b04-8a82-27b3050a6b43",
   "metadata": {},
   "source": [
    " # 3.How to Add New Cell Above\n",
    "    * Shortcut- A (no cell should be selected )\n",
    "    * This will insert a new cell below the current cell\n"
   ]
  },
  {
   "cell_type": "markdown",
   "id": "6332b1d1-1493-4c91-8b65-06f6e06808c5",
   "metadata": {},
   "source": [
    " # 4. How to Add New Cell Below\n",
    "    * Shortcut B (no cell should be selected )\n",
    "    * This will insert a new cell below the current cell."
   ]
  },
  {
   "cell_type": "markdown",
   "id": "9f6db235-67c7-4b52-9059-4455202ac65e",
   "metadata": {},
   "source": [
    "# 5.  How to Delete a Cell\n",
    "   * shortcut D, D\n",
    "   * This will delete the current cell."
   ]
  },
  {
   "cell_type": "markdown",
   "id": "f3a86a4c-9c10-46ce-b00a-1dc7d19dcc4c",
   "metadata": {},
   "source": [
    " # 6. How to Cut a Cell\n",
    "   * *Shortcut Ctrl + X\n",
    "   * This will cut the current cell."
   ]
  },
  {
   "cell_type": "markdown",
   "id": "6b231a0c-d1f1-43eb-aaf6-cd7abefa45f0",
   "metadata": {},
   "source": [
    " # 7. How to Copy a Cell\n",
    "   * *Shortcut:* Ctrl + C\n",
    "   * *Description:* This will copy the current cell."
   ]
  },
  {
   "cell_type": "markdown",
   "id": "1cc59340-44bd-468b-b5b5-6dc313118c60",
   "metadata": {},
   "source": [
    " # 8. How to Paste a Cell Below\n",
    "   * Shortcut- Ctrl + V\n",
    "   * This will paste the copied cell below the current cell.\n"
   ]
  },
  {
   "cell_type": "markdown",
   "id": "7e5ed602-8e6f-4fa2-a328-99cc8f2515d5",
   "metadata": {},
   "source": [
    "# 9 How to Move a Cell Up\n",
    "   * Shortcut= Shift + Up Arrow\n",
    "   * This will move the selected cell up.\n"
   ]
  },
  {
   "cell_type": "markdown",
   "id": "0b93a6e2-c2f5-4cf5-803f-963d7a6e7f61",
   "metadata": {},
   "source": [
    "# 10 How to Move a Cell Down\n",
    "    * Shortcut- Shift + Down Arrow\n",
    "    * This will move the selected cell down.\n"
   ]
  },
  {
   "cell_type": "raw",
   "id": "6dc0774f-b52e-49ea-982e-679f2f269737",
   "metadata": {},
   "source": []
  },
  {
   "cell_type": "markdown",
   "id": "5da3dc04-4459-414f-ad50-f681a02910f7",
   "metadata": {},
   "source": []
  }
 ],
 "metadata": {
  "kernelspec": {
   "display_name": "Python 3 (ipykernel)",
   "language": "python",
   "name": "python3"
  },
  "language_info": {
   "codemirror_mode": {
    "name": "ipython",
    "version": 3
   },
   "file_extension": ".py",
   "mimetype": "text/x-python",
   "name": "python",
   "nbconvert_exporter": "python",
   "pygments_lexer": "ipython3",
   "version": "3.12.4"
  }
 },
 "nbformat": 4,
 "nbformat_minor": 5
}
